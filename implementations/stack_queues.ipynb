{
 "cells": [
  {
   "cell_type": "code",
   "execution_count": 3,
   "metadata": {},
   "outputs": [],
   "source": [
    "class Node():\n",
    "    def __init__(self, value) -> None:\n",
    "        self.val =value\n",
    "        self.next = None\n",
    "\n",
    "class Stack():\n",
    "    def __init__(self) -> None:\n",
    "        self.first = None\n",
    "        self.last = None\n",
    "        self.size = 0\n",
    "    def push(self, val):\n",
    "        node = Node(val)\n",
    "        if self.first is None:\n",
    "            self.first =node\n",
    "            self.last = node\n",
    "        else:\n",
    "            prev_first = self.first\n",
    "            self.first = node\n",
    "            self.first.next= prev_first\n",
    "        self.size+=1\n",
    "\n",
    "    def pop(self):\n",
    "        if self.first is None:\n",
    "            return  None\n",
    "        prev_first = self.first\n",
    "        if self.first == self.last:\n",
    "            self.last = None\n",
    "        self.first = self.first.next\n",
    "        self.size-=1\n",
    "        return prev_first.val\n"
   ]
  },
  {
   "cell_type": "code",
   "execution_count": 12,
   "metadata": {},
   "outputs": [],
   "source": [
    "class Queue():\n",
    "    def __init__(self) -> None:\n",
    "        self.first = None\n",
    "        self.last = None; self.size = 0\n",
    "    def print(self):\n",
    "        return self.first.val\n",
    "    def enqueue(self,val):\n",
    "        node = Node(val)\n",
    "        if self.first is None:\n",
    "            self.first = node; self.last = node\n",
    "        else:\n",
    "            self.last.next = node\n",
    "            self.last = node\n",
    "        self.size+=1\n",
    "        return self \n",
    "    def dequeue(self):\n",
    "        if self.first is None:\n",
    "            return None\n",
    "        temp = self.first \n",
    "        if self.first == self.last:\n",
    "            self.last = None\n",
    "        self.first = self.first.next\n",
    "        self.size -=1\n",
    "        return temp.val"
   ]
  },
  {
   "cell_type": "code",
   "execution_count": 16,
   "metadata": {},
   "outputs": [
    {
     "data": {
      "text/plain": [
       "'SOKKE'"
      ]
     },
     "execution_count": 16,
     "metadata": {},
     "output_type": "execute_result"
    }
   ],
   "source": [
    "q = Queue()\n",
    "q.enqueue('Kushal')\n",
    "q.enqueue('SOKKE')\n",
    "q.enqueue('MALLESHAPPA')\n",
    "q.dequeue()\n",
    "q.print()"
   ]
  },
  {
   "cell_type": "code",
   "execution_count": null,
   "metadata": {},
   "outputs": [],
   "source": []
  }
 ],
 "metadata": {
  "kernelspec": {
   "display_name": "Python 3",
   "language": "python",
   "name": "python3"
  },
  "language_info": {
   "codemirror_mode": {
    "name": "ipython",
    "version": 3
   },
   "file_extension": ".py",
   "mimetype": "text/x-python",
   "name": "python",
   "nbconvert_exporter": "python",
   "pygments_lexer": "ipython3",
   "version": "3.10.6"
  },
  "orig_nbformat": 4
 },
 "nbformat": 4,
 "nbformat_minor": 2
}
