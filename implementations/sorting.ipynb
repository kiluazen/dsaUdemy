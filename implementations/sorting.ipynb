{
 "cells": [
  {
   "cell_type": "code",
   "execution_count": 10,
   "metadata": {},
   "outputs": [
    {
     "name": "stdout",
     "output_type": "stream",
     "text": [
      "[4, 3, 15, 1, -2, 6] 4 3\n",
      "[3, 4, 15, 1, -2, 6] 4 15\n",
      "[3, 4, 15, 1, -2, 6] 15 1\n",
      "[3, 4, 1, 15, -2, 6] 15 -2\n",
      "[3, 4, 1, -2, 15, 6] 15 6\n",
      "[3, 4, 1, -2, 6, 15] 3 4\n",
      "[3, 4, 1, -2, 6, 15] 4 1\n",
      "[3, 1, 4, -2, 6, 15] 4 -2\n",
      "[3, 1, -2, 4, 6, 15] 4 6\n",
      "[3, 1, -2, 4, 6, 15] 3 1\n",
      "[1, 3, -2, 4, 6, 15] 3 -2\n",
      "[1, -2, 3, 4, 6, 15] 3 4\n",
      "[1, -2, 3, 4, 6, 15] 1 -2\n",
      "[-2, 1, 3, 4, 6, 15] 1 3\n",
      "[-2, 1, 3, 4, 6, 15] -2 1\n"
     ]
    },
    {
     "data": {
      "text/plain": [
       "[-2, 1, 3, 4, 6, 15]"
      ]
     },
     "execution_count": 10,
     "metadata": {},
     "output_type": "execute_result"
    }
   ],
   "source": [
    "# Bubble Sort\n",
    "def bubbleSort(arr):\n",
    "    for i in range(len(arr), 0,-1):\n",
    "        noswaps = True\n",
    "        for j in range(i-1):\n",
    "            print(arr, arr[j], arr[j+1])\n",
    "            if arr[j] > arr[j+1]:\n",
    "                noswaps = False\n",
    "                temp = arr[j]\n",
    "                arr[j]= arr[j+1] ; arr[j+1] = temp\n",
    "        if noswaps:\n",
    "            break \n",
    "    return arr\n",
    "bubbleSort([4,3,15,1,-2,6])"
   ]
  },
  {
   "cell_type": "code",
   "execution_count": 18,
   "metadata": {},
   "outputs": [
    {
     "name": "stdout",
     "output_type": "stream",
     "text": [
      "[-5, -2, 15, 1, 3, 6] -2 3\n",
      "[-5, -2, 1, 15, 3, 6] 1 15\n",
      "[-5, -2, 1, 3, 15, 6] 3 15\n",
      "[-5, -2, 1, 3, 6, 15] 6 15\n"
     ]
    },
    {
     "data": {
      "text/plain": [
       "[-5, -2, 1, 3, 6, 15]"
      ]
     },
     "execution_count": 18,
     "metadata": {},
     "output_type": "execute_result"
    }
   ],
   "source": [
    "def selectionSort(arr):\n",
    "    for i in range(len(arr)):\n",
    "        min_idx = i\n",
    "        for j in range(i+1 ,len(arr)):\n",
    "            if arr[j]< arr[min_idx]:\n",
    "                min_idx = j\n",
    "        if i != min_idx :\n",
    "            low_val = arr[min_idx]\n",
    "            arr[min_idx] = arr[i]\n",
    "            arr[i] = low_val\n",
    "            print(arr, arr[i], arr[min_idx])\n",
    "    return arr\n",
    "selectionSort([-5,3,15,1,-2,6])\n",
    "        "
   ]
  },
  {
   "cell_type": "code",
   "execution_count": 5,
   "metadata": {},
   "outputs": [
    {
     "name": "stdout",
     "output_type": "stream",
     "text": [
      "[-5, 3, 15, 1, -2, 6] 3\n",
      "[-5, 3, 15, 1, -2, 6] 15\n",
      "[-5, 1, 3, 15, -2, 6] 15\n",
      "[-5, -2, 1, 3, 15, 6] 15\n",
      "[-5, -2, 1, 3, 6, 15] 15\n"
     ]
    },
    {
     "data": {
      "text/plain": [
       "[-5, -2, 1, 3, 6, 15]"
      ]
     },
     "execution_count": 5,
     "metadata": {},
     "output_type": "execute_result"
    }
   ],
   "source": [
    "def insertionSort(arr):\n",
    "    for i in range(1, len(arr)):\n",
    "        cur_val = arr[i]\n",
    "        for j in range(i-1, -1,-1):\n",
    "            if arr[j]> cur_val:\n",
    "                arr[j+1] = arr[j]\n",
    "                arr[j] = cur_val \n",
    "        print(arr, arr[i])\n",
    "\n",
    "    return arr\n",
    "insertionSort([-5,3,15,1,-2,6])"
   ]
  },
  {
   "cell_type": "code",
   "execution_count": 13,
   "metadata": {},
   "outputs": [
    {
     "name": "stdout",
     "output_type": "stream",
     "text": [
      "[2, 10] [2] [10]\n",
      "[2, 5, 10] [5] [2, 10]\n",
      "[-1, 3] [-1] [3]\n",
      "[0, 4] [0] [4]\n",
      "[-1, 0, 3, 4] [-1, 3] [0, 4]\n",
      "[-1, 0, 2, 3, 4, 5, 10] [2, 5, 10] [-1, 0, 3, 4]\n"
     ]
    },
    {
     "data": {
      "text/plain": [
       "[-1, 0, 2, 3, 4, 5, 10]"
      ]
     },
     "execution_count": 13,
     "metadata": {},
     "output_type": "execute_result"
    }
   ],
   "source": [
    "def merge(arr1, arr2):\n",
    "    results = []\n",
    "    i, j =0,0\n",
    "    while i< len(arr1) and j < len(arr2):\n",
    "        if arr2[j] > arr1[i]:\n",
    "            results.append(arr1[i])\n",
    "            i+=1\n",
    "        else:\n",
    "            results.append(arr2[j])\n",
    "            j+=1\n",
    "    while i<len(arr1):\n",
    "        results.append(arr1[i])\n",
    "        i+=1\n",
    "    while j< len(arr2):\n",
    "        results.append(arr2[j])\n",
    "        j+=1\n",
    "    return results\n",
    "# print(merge([15],[3]))\n",
    "\n",
    "def mergeSort(arr):\n",
    "    if len(arr) <=1 :\n",
    "        return arr\n",
    "    m = len(arr)//2\n",
    "    left = mergeSort(arr[:m])\n",
    "    right = mergeSort(arr[m: len(arr)])\n",
    "    print(merge(left, right), left, right)\n",
    "    return merge(left, right)\n",
    "\n",
    "mergeSort([5,2,10,-1,3,0,4])"
   ]
  },
  {
   "cell_type": "code",
   "execution_count": 32,
   "metadata": {},
   "outputs": [
    {
     "data": {
      "text/plain": [
       "[-1, 2, 3, 3, 5, 6, 8, 8, 9, 10, 15, 21]"
      ]
     },
     "execution_count": 32,
     "metadata": {},
     "output_type": "execute_result"
    }
   ],
   "source": [
    "# Quick Sort\n",
    "def swap(arr, i, j):\n",
    "    temp = arr[i]\n",
    "    arr[i] = arr[j]\n",
    "    arr[j] = temp\n",
    "    return arr\n",
    "def pivot(arr, start =0, end= None):\n",
    "    if end is None:\n",
    "        end = len(arr)\n",
    "    pivot = arr[start]\n",
    "    swapIdx = start\n",
    "    for i in range(start+1, end):\n",
    "        if arr[i]< pivot:\n",
    "            swapIdx+=1\n",
    "            swap(arr, i , swapIdx)\n",
    "    swap(arr, start, swapIdx)\n",
    "    return swapIdx\n",
    "def quickSort(arr, left =0,  right = None):\n",
    "    if right is None:\n",
    "        right = len(arr)\n",
    "    if left < right:\n",
    "        pivotIdx = pivot(arr,left, right)\n",
    "        quickSort(arr, left, pivotIdx)\n",
    "        quickSort(arr, pivotIdx +1, right)\n",
    "    return arr\n",
    "quickSort([5,3,-1,10,8,21, 2,6,3,8,9,15],0)\n",
    "\n"
   ]
  },
  {
   "cell_type": "code",
   "execution_count": 49,
   "metadata": {},
   "outputs": [
    {
     "data": {
      "text/plain": [
       "[1, 2, 3, 3, 4, 5, 8, 8]"
      ]
     },
     "execution_count": 49,
     "metadata": {},
     "output_type": "execute_result"
    }
   ],
   "source": [
    "[1,2,3] +[3,4]+ [5,8,8]"
   ]
  },
  {
   "cell_type": "code",
   "execution_count": 57,
   "metadata": {},
   "outputs": [
    {
     "name": "stdout",
     "output_type": "stream",
     "text": [
      "4 [1, 8, 21, 53, 263, 915, 1108]\n"
     ]
    }
   ],
   "source": [
    "# Radix Sort\n",
    "def getdigit(n, idx):\n",
    "    s = str(n)\n",
    "    if idx< len(s):\n",
    "        return int(s[len(s)-idx-1])\n",
    "    else:\n",
    "        return 0\n",
    "def maxdigitcount(nums):\n",
    "    count = -1\n",
    "    for num in nums:\n",
    "        count = max(count,  len(str(num)))\n",
    "    return count\n",
    "    \n",
    "def RadixSort(arr):\n",
    "    for idx in range(maxdigitcount(arr)):\n",
    "        buckets = [[] for i in range(10)]\n",
    "        for num in arr:\n",
    "            buckets[getdigit(num, idx)].append(num)\n",
    "            arr = [val for sub_list in buckets for val in  sub_list]\n",
    "    return arr\n",
    "print( maxdigitcount([53,1,1108,21, 263,8,915]) , RadixSort([53,1,1108,21, 263,8,915]) )"
   ]
  },
  {
   "cell_type": "code",
   "execution_count": 8,
   "metadata": {},
   "outputs": [
    {
     "data": {
      "text/plain": [
       "2"
      ]
     },
     "execution_count": 8,
     "metadata": {},
     "output_type": "execute_result"
    }
   ],
   "source": [
    "def majorityElement(nums):\n",
    "        \"\"\"\n",
    "        :type nums: List[int]\n",
    "        :rtype: int\n",
    "        \"\"\"\n",
    "        dict = {}\n",
    "        for val in nums:\n",
    "            if val not in dict:\n",
    "                dict[val]= 1\n",
    "            else:\n",
    "                dict[val] +=1\n",
    "        for key,count in dict.items():\n",
    "            if count > len(nums)/2:\n",
    "                return key\n",
    "majorityElement([2,3,2])"
   ]
  },
  {
   "cell_type": "code",
   "execution_count": 12,
   "metadata": {},
   "outputs": [
    {
     "data": {
      "text/plain": [
       "5"
      ]
     },
     "execution_count": 12,
     "metadata": {},
     "output_type": "execute_result"
    }
   ],
   "source": [
    "def romanToInt(s):\n",
    "    \"\"\"\n",
    "    :type s: str\n",
    "    :rtype: int\n",
    "    \"\"\"\n",
    "    dict = {'I':1, 'V':5, 'X':10, 'L':50, 'C':100, 'D':500, 'M':1000}\n",
    "    value = 0\n",
    "    for i in range(len(s)):\n",
    "        if i< len(s) -1 and dict[s[i+1]] > dict[s[i]]:\n",
    "            value -= dict[s[i]]\n",
    "        else:\n",
    "            value += dict[s[i]]\n",
    "\n",
    "    return value\n",
    "romanToInt('VX')\n"
   ]
  },
  {
   "cell_type": "code",
   "execution_count": 22,
   "metadata": {},
   "outputs": [],
   "source": [
    "def rotate(nums, k):\n",
    "    \"\"\"\n",
    "    :type nums: List[int]\n",
    "    :type k: int\n",
    "    :rtype: None Do not return anything, modify nums in-place instead.\n",
    "    \"\"\"\n",
    "    if k > len(nums):\n",
    "        rotate(nums, k-len(nums))\n",
    "    else:\n",
    "        nums[:] = nums[-k:] + nums[:len(nums)-k] # very important lesson.\n",
    "\n",
    "nums = [1,2,3,4,5,6,7]\n",
    "rotate(nums,3)"
   ]
  },
  {
   "cell_type": "code",
   "execution_count": 23,
   "metadata": {},
   "outputs": [
    {
     "data": {
      "text/plain": [
       "[5, 6, 7, 1, 2, 3, 4]"
      ]
     },
     "execution_count": 23,
     "metadata": {},
     "output_type": "execute_result"
    }
   ],
   "source": [
    "nums"
   ]
  },
  {
   "cell_type": "code",
   "execution_count": 24,
   "metadata": {},
   "outputs": [],
   "source": [
    "#GPT solution\n",
    "def canJump(nums):\n",
    "    n = len(nums)\n",
    "    farthest = 0\n",
    "\n",
    "    for i in range(n):\n",
    "        if i > farthest:\n",
    "            return False\n",
    "\n",
    "        farthest = max(farthest, i + nums[i])\n",
    "        if farthest >= n - 1:\n",
    "            return True\n",
    "\n",
    "    return False\n",
    "# My solution\n",
    "def canJump(self, nums):\n",
    "    \"\"\"\n",
    "    :type nums: List[int]\n",
    "    :rtype: bool\n",
    "    \"\"\"\n",
    "    ans = False\n",
    "    if nums == [0]:\n",
    "        ans = True\n",
    "    elif 0 not in nums:\n",
    "        ans = True\n",
    "    else:\n",
    "        for i, val in enumerate(nums):\n",
    "            if val==0:\n",
    "                ans = False\n",
    "                for j in range(i):\n",
    "                    if nums[j] + j> i and i!= len(nums)-1:\n",
    "                        ans = True\n",
    "                        break\n",
    "                    elif nums[j] + j>= i and i == len(nums)-1:\n",
    "                        ans = True\n",
    "                        break\n",
    "                    else:\n",
    "                        continue\n",
    "                if ans == False:\n",
    "                    return False\n",
    "                \n",
    "    return ans"
   ]
  },
  {
   "cell_type": "code",
   "execution_count": 13,
   "metadata": {},
   "outputs": [
    {
     "name": "stdout",
     "output_type": "stream",
     "text": [
      "{1, 2}\n"
     ]
    }
   ],
   "source": [
    "a = set()\n",
    "a.add(1)\n",
    "a.add(2)\n",
    "print(a)"
   ]
  },
  {
   "cell_type": "code",
   "execution_count": 14,
   "metadata": {},
   "outputs": [
    {
     "data": {
      "text/plain": [
       "{1}"
      ]
     },
     "execution_count": 14,
     "metadata": {},
     "output_type": "execute_result"
    }
   ],
   "source": [
    "a.remove(2)\n",
    "a"
   ]
  },
  {
   "cell_type": "markdown",
   "metadata": {},
   "source": []
  },
  {
   "cell_type": "markdown",
   "metadata": {},
   "source": []
  }
 ],
 "metadata": {
  "kernelspec": {
   "display_name": "Python 3",
   "language": "python",
   "name": "python3"
  },
  "language_info": {
   "codemirror_mode": {
    "name": "ipython",
    "version": 3
   },
   "file_extension": ".py",
   "mimetype": "text/x-python",
   "name": "python",
   "nbconvert_exporter": "python",
   "pygments_lexer": "ipython3",
   "version": "3.10.12"
  },
  "orig_nbformat": 4
 },
 "nbformat": 4,
 "nbformat_minor": 2
}
