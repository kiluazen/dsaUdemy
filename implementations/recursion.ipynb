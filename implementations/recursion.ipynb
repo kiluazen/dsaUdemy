{
 "cells": [
  {
   "cell_type": "code",
   "execution_count": 1,
   "metadata": {},
   "outputs": [],
   "source": [
    "import math"
   ]
  },
  {
   "cell_type": "code",
   "execution_count": 2,
   "metadata": {},
   "outputs": [
    {
     "data": {
      "text/plain": [
       "False"
      ]
     },
     "execution_count": 2,
     "metadata": {},
     "output_type": "execute_result"
    }
   ],
   "source": [
    "# frequency counter\n",
    "def anagram(a,b):\n",
    "    if(len(a) != len(b)):\n",
    "       return False\n",
    "    lookup = {}\n",
    "    for letter in a:\n",
    "        if letter in lookup:\n",
    "            lookup[letter] +=1\n",
    "        else :\n",
    "            lookup[letter] =1\n",
    "    for letter in b:\n",
    "        if letter not in lookup or lookup[letter] == 0:\n",
    "            return False\n",
    "        else:\n",
    "            lookup[letter] -=1\n",
    "    return True\n",
    "x = 'anagram' ; y = 'namgra'\n",
    "anagram(x,y)\n"
   ]
  },
  {
   "cell_type": "code",
   "execution_count": 3,
   "metadata": {},
   "outputs": [
    {
     "name": "stdout",
     "output_type": "stream",
     "text": [
      "7 4 2\n"
     ]
    }
   ],
   "source": [
    "#Multiple pointers\n",
    "def countUniqueValues(arr):\n",
    "    i = 0; j =1\n",
    "    count = 0\n",
    "    while j<len(arr):\n",
    "        if arr[i] == arr[j]:\n",
    "            j+=1\n",
    "        else:\n",
    "            i+=1\n",
    "            arr[i] = arr[j]\n",
    "            j+=1\n",
    "    return i+1\n",
    "a = [ 1,2,3,4,4,4,7,7,12,12,13] # 7\n",
    "b = [-2,-1,-1,0,1] # 4\n",
    "c = [1,1,1,1,1,2] #2\n",
    "print(countUniqueValues(a), countUniqueValues(b), countUniqueValues(c))\n"
   ]
  },
  {
   "cell_type": "code",
   "execution_count": 4,
   "metadata": {},
   "outputs": [
    {
     "data": {
      "text/plain": [
       "19"
      ]
     },
     "execution_count": 4,
     "metadata": {},
     "output_type": "execute_result"
    }
   ],
   "source": [
    "# ( [2,6,9,2,1,8,5,6,3] , 3 ) = 19 #Slide Window Pattern\n",
    "def max_sum(arr,num):\n",
    "    if num> len(arr) :\n",
    "        return None\n",
    "    temp_sum = sum(arr[:num])\n",
    "    max_sum =  temp_sum\n",
    "    for i in range(num, len(arr)):\n",
    "        temp_sum = temp_sum - arr[i-num] + arr[i]\n",
    "        max_sum = max(max_sum, temp_sum)\n",
    "    return max_sum\n",
    "\n",
    "max_sum( [2,6,9,2,1,8,5,6,3] , 3 )"
   ]
  },
  {
   "cell_type": "code",
   "execution_count": 5,
   "metadata": {},
   "outputs": [
    {
     "data": {
      "text/plain": [
       "7"
      ]
     },
     "execution_count": 5,
     "metadata": {},
     "output_type": "execute_result"
    }
   ],
   "source": [
    "# Divide and conquer\n",
    "#[1,2,3,5,6,8,12,15,20,29] , 15 -> 7\n",
    "def find_value(arr,val):\n",
    "    left = 0\n",
    "    right = len(arr) -1\n",
    "    while(right>left):\n",
    "        middle = (left + right)//2\n",
    "        # print(left, right, middle)\n",
    "        if arr[middle] >val:\n",
    "            right = middle \n",
    "        elif arr[middle] <val:\n",
    "            left = middle\n",
    "        else:\n",
    "            return middle\n",
    "        \n",
    "    return middle\n",
    "find_value([1,2,3,5,6,8,12,15,20,29] , 15)"
   ]
  },
  {
   "cell_type": "code",
   "execution_count": 6,
   "metadata": {},
   "outputs": [
    {
     "name": "stdout",
     "output_type": "stream",
     "text": [
      "just checking:True\n"
     ]
    },
    {
     "data": {
      "text/plain": [
       "True"
      ]
     },
     "execution_count": 6,
     "metadata": {},
     "output_type": "execute_result"
    }
   ],
   "source": [
    "def any_duplicates(*args):\n",
    "    arr = [l for l in args]\n",
    "    i=0\n",
    "    print(f\"just checking:{len(arr) != len(set(arr))}\")\n",
    "    for j in range(1, len(arr)):\n",
    "        if arr[i] == arr[j]:\n",
    "            return True\n",
    "        else:\n",
    "            i+=1; \n",
    "    return False\n",
    "\n",
    "any_duplicates('a','b','c','c')\n"
   ]
  },
  {
   "cell_type": "code",
   "execution_count": 7,
   "metadata": {},
   "outputs": [
    {
     "data": {
      "text/plain": [
       "False"
      ]
     },
     "execution_count": 7,
     "metadata": {},
     "output_type": "execute_result"
    }
   ],
   "source": [
    "def avg_pair(arr, avg):\n",
    "    left = 0; right = len(arr)-1\n",
    "    while(left<right):\n",
    "        temp_avg = (arr[left] + arr[right])/2\n",
    "        if temp_avg == avg :\n",
    "            return True\n",
    "        elif temp_avg <avg:\n",
    "            left +=1\n",
    "        else:\n",
    "            right -=1\n",
    "    return False\n",
    "avg_pair([1,3,3,5,6,7,10,12,19],20)"
   ]
  },
  {
   "cell_type": "code",
   "execution_count": 8,
   "metadata": {},
   "outputs": [
    {
     "data": {
      "text/plain": [
       "39"
      ]
     },
     "execution_count": 8,
     "metadata": {},
     "output_type": "execute_result"
    }
   ],
   "source": [
    "def maxSubarraySum(arr, num):\n",
    "    if num>len(arr):\n",
    "        return False\n",
    "    temp_sum = sum(arr[:num])\n",
    "    max_sum = temp_sum\n",
    "    for i in range(num, len(arr)):\n",
    "        temp_sum = temp_sum + arr[i] - arr[i-num]\n",
    "        max_sum = max(temp_sum, max_sum)\n",
    "    return max_sum\n",
    "maxSubarraySum([100,200,300,400],2)\n",
    "maxSubarraySum([1,4,2,10,23,3,1,0,20] , 4)"
   ]
  },
  {
   "cell_type": "code",
   "execution_count": 17,
   "metadata": {},
   "outputs": [
    {
     "data": {
      "text/plain": [
       "3"
      ]
     },
     "execution_count": 17,
     "metadata": {},
     "output_type": "execute_result"
    }
   ],
   "source": [
    "# def minSubArrayLen(arr,val):\n",
    "#     if val > sum(arr):\n",
    "#         return 0\n",
    "#     # I'mma do my own thing; go easy with the kid he had a terrible teacher...\n",
    "#     for num in range(len(arr)):\n",
    "#         temp_sum = sum(arr[:num])\n",
    "#         max_sum = temp_sum\n",
    "#         for i in range(num, len(arr)):\n",
    "#             temp_sum = temp_sum + arr[i] - arr[i-num]\n",
    "#             max_sum = max(temp_sum, max_sum)\n",
    "#         if max_sum >= val:\n",
    "#             return num\n",
    "# minSubArrayLen([1,4,16,22,5,7,8,9,10], 39)\n",
    "def minSubArrayLen(arr, val):\n",
    "    left =0; right=0\n",
    "    total = 0; minLen = math.inf\n",
    "    while(left < len(arr)):\n",
    "        # print(f'{left} ; {right} ; {total} ; min length: {minLen} ')\n",
    "        if(total < val and right < len(arr)):\n",
    "            total += arr[right]\n",
    "            right +=1\n",
    "        elif(total>= val):\n",
    "            left +=1\n",
    "            minLen = min(minLen, right-left+1)\n",
    "            total -= arr[left]\n",
    "            \n",
    "        else:\n",
    "            break\n",
    "    return 0 if minLen == math.inf else minLen\n",
    "\n",
    "\n",
    "minSubArrayLen([1,4,16,22,5,7,8,9,10], 39)"
   ]
  },
  {
   "cell_type": "code",
   "execution_count": 29,
   "metadata": {},
   "outputs": [
    {
     "data": {
      "text/plain": [
       "8"
      ]
     },
     "execution_count": 29,
     "metadata": {},
     "output_type": "execute_result"
    }
   ],
   "source": [
    "def findLongestSubString(str):\n",
    "    left =0; right=0\n",
    "    lookup = set() ; maxLen = -math.inf\n",
    "    while left<len(str) and right<len(str) :\n",
    "        # print(f' {left} ; {right} ; {lookup}; {maxLen}')\n",
    "        if str[right] not in lookup:\n",
    "            lookup.add(str[right])\n",
    "            right+=1\n",
    "            maxLen = max( maxLen, right -left)\n",
    "        elif str[right] in lookup:\n",
    "            lookup.remove(str[left])\n",
    "            left +=1\n",
    "        else:\n",
    "            break\n",
    "    return maxLen\n",
    "findLongestSubString('longestsubstring')"
   ]
  },
  {
   "cell_type": "code",
   "execution_count": 2,
   "metadata": {},
   "outputs": [
    {
     "data": {
      "text/plain": [
       "55"
      ]
     },
     "execution_count": 2,
     "metadata": {},
     "output_type": "execute_result"
    }
   ],
   "source": [
    "# def factorial(n):\n",
    "#     result = n\n",
    "#     if n ==1:\n",
    "#         return 1\n",
    "#     else:\n",
    "#         result*= factorial(n-1)\n",
    "#     return result\n",
    "# factorial(6)\n",
    "def power(base, exp):\n",
    "    result = base\n",
    "    if (exp ==1):\n",
    "        return base\n",
    "    else:\n",
    "        result *= power(base, exp-1)\n",
    "    return result\n",
    "# power(3,3)\n",
    "def productOfArray(arr):\n",
    "    k = 1\n",
    "    if len(arr)==0:\n",
    "        return 1\n",
    "    else:\n",
    "        k = arr[0]\n",
    "    k = k*productOfArray(arr[1:])\n",
    "    return k\n",
    "# productOfArray([1,2,3,10])\n",
    "def recursiveRange(n):\n",
    "    result = n\n",
    "    if n ==0:\n",
    "        return 0\n",
    "    else:\n",
    "        result += recursiveRange(n-1)\n",
    "    return result\n",
    "# recursiveRange(10)\n",
    "def fib(n):\n",
    "    if (n<=2): \n",
    "        return 1\n",
    "    else:\n",
    "        return fib(n-1) + fib(n-2)\n",
    "fib(10)\n",
    "    "
   ]
  },
  {
   "cell_type": "code",
   "execution_count": 15,
   "metadata": {},
   "outputs": [
    {
     "ename": "TypeError",
     "evalue": "rstrip arg must be None or str",
     "output_type": "error",
     "traceback": [
      "\u001b[0;31m---------------------------------------------------------------------------\u001b[0m",
      "\u001b[0;31mTypeError\u001b[0m                                 Traceback (most recent call last)",
      "Cell \u001b[0;32mIn[15], line 2\u001b[0m\n\u001b[1;32m      1\u001b[0m \u001b[39mstr\u001b[39m \u001b[39m=\u001b[39m \u001b[39m'\u001b[39m\u001b[39mkushal\u001b[39m\u001b[39m'\u001b[39m\n\u001b[0;32m----> 2\u001b[0m \u001b[39mstr\u001b[39;49m\u001b[39m.\u001b[39;49mrstrip(\u001b[39m1\u001b[39;49m)\n\u001b[1;32m      3\u001b[0m \u001b[39mstr\u001b[39m\n",
      "\u001b[0;31mTypeError\u001b[0m: rstrip arg must be None or str"
     ]
    }
   ],
   "source": [
    "str = 'kushal'\n",
    "str.rstrip(1)\n",
    "str"
   ]
  },
  {
   "cell_type": "code",
   "execution_count": 27,
   "metadata": {},
   "outputs": [
    {
     "name": "stdout",
     "output_type": "stream",
     "text": [
      "Its running\n",
      "Its running\n",
      "Its running\n",
      "Its running\n",
      "Its running\n",
      "Its running\n",
      "Its running\n",
      "Its running\n",
      "Its running\n",
      "Its running\n",
      "Its running\n"
     ]
    },
    {
     "data": {
      "text/plain": [
       "True"
      ]
     },
     "execution_count": 27,
     "metadata": {},
     "output_type": "execute_result"
    }
   ],
   "source": [
    "# RECURSION\n",
    "def reverse(str):\n",
    "    # print(str)\n",
    "    if len(str) <= 1: \n",
    "        return str\n",
    "    return reverse(str[1:]) + str[0]\n",
    "# reverse('kushal')\n",
    "def isPalindrome(str):\n",
    "    # print('Its running')\n",
    "    if len(str) == 1:\n",
    "        return True\n",
    "    elif len(str) == 2:\n",
    "        return str[0] == str[-1] # this how I wrote the first time and str[0] == str[-1]:\n",
    "                                #     return True\n",
    "                                # elif len(str) ==2 and str[0]!= str[-1]:\n",
    "                                #     return False\n",
    "    if str[0] == str[-1]:\n",
    "        return isPalindrome(str[1:-1])\n",
    "    else:\n",
    "        return False\n",
    "# isPalindrome('amanaplanacanalpanama')\\\n",
    "\n",
    "        \n"
   ]
  }
 ],
 "metadata": {
  "kernelspec": {
   "display_name": "Python 3",
   "language": "python",
   "name": "python3"
  },
  "language_info": {
   "codemirror_mode": {
    "name": "ipython",
    "version": 3
   },
   "file_extension": ".py",
   "mimetype": "text/x-python",
   "name": "python",
   "nbconvert_exporter": "python",
   "pygments_lexer": "ipython3",
   "version": "3.10.6"
  },
  "orig_nbformat": 4
 },
 "nbformat": 4,
 "nbformat_minor": 2
}
