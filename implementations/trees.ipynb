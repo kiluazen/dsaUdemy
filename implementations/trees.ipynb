{
 "cells": [
  {
   "cell_type": "code",
   "execution_count": 2,
   "metadata": {},
   "outputs": [],
   "source": [
    "import graphviz"
   ]
  },
  {
   "cell_type": "code",
   "execution_count": 3,
   "metadata": {},
   "outputs": [],
   "source": [
    "from graphviz import Source"
   ]
  },
  {
   "cell_type": "code",
   "execution_count": 9,
   "metadata": {},
   "outputs": [],
   "source": [
    "class Node():\n",
    "    def __init__(self, value) -> None:\n",
    "        self.val = value\n",
    "        self.left = None\n",
    "        self.right = None\n",
    "    def __str__(self) -> str:\n",
    "        return f'{self.val}'\n",
    "\n",
    "class BinarySearchTree():\n",
    "    def __init__(self, root =None) -> None:\n",
    "        self.root = root if root is not None else None\n",
    "    def print(self):\n",
    "        current = self.root\n",
    "        while current.left is not None:\n",
    "            print(f'{current.left} <-- \"{current}\" --> {current.right}')\n",
    "    def insert(self, val):\n",
    "        node = Node(val)\n",
    "        if self.root is None:\n",
    "            self.root = node\n",
    "            return self\n",
    "        else:\n",
    "            current = self.root\n",
    "            \n",
    "            while True:\n",
    "                if val == current.val:\n",
    "                    return None\n",
    "                elif val < current.val:\n",
    "                    if current.left is None:\n",
    "                        current.left = node\n",
    "                        break\n",
    "                    else:\n",
    "                        current = current.left\n",
    "                \n",
    "                elif val > current.val:\n",
    "                    if current.right is None:\n",
    "                        current.right = node\n",
    "                        break\n",
    "                    else:\n",
    "                        current = current.right\n",
    "\n",
    "    def find(self, val):\n",
    "        if self.root is None: \n",
    "            return False\n",
    "        current = self.root\n",
    "        found = False\n",
    "        while current and not found:\n",
    "            if val < current.val:\n",
    "                current = current.left\n",
    "            elif val>current.val:\n",
    "                current = current.right\n",
    "            else:\n",
    "                found =True\n",
    "        return found\n",
    "    def breadth_first_search(self):\n",
    "        data = []; queue = []\n",
    "        queue.append(self.root)\n",
    "        while(len(queue)) :\n",
    "            node = queue[0]\n",
    "            queue =queue[1:]\n",
    "            data.append(node.val)\n",
    "            if node.left:\n",
    "                queue.append(node.left)\n",
    "            if node.right:\n",
    "                queue.append(node.right)\n",
    "        return data\n",
    "    def depth_first_search_preorder(self):\n",
    "        data = []\n",
    "        def traverse(node):\n",
    "            data.append(node.val)\n",
    "            if node.left:\n",
    "                traverse(node.left)\n",
    "            if node.right:\n",
    "                traverse(node.right)\n",
    "        traverse(self.root)\n",
    "        return data\n",
    "    def dps_postorder(self):\n",
    "        data = []\n",
    "        def traverse(node):\n",
    "            if node.left:\n",
    "                traverse(node.left)\n",
    "            if node.right:\n",
    "                traverse(node.right)\n",
    "            data.append(node.val)\n",
    "        traverse(self.root)\n",
    "        return data\n",
    "    \n",
    "    def dps_inorder(self):\n",
    "        data = []\n",
    "        def traverse(node):\n",
    "            if node.left:\n",
    "                traverse(node.left)\n",
    "            data.append(node.val)\n",
    "            if node.right:\n",
    "                traverse(node.right)\n",
    "        traverse(self.root)\n",
    "        return data\n",
    "    \n",
    "    def visualize_tree(self):\n",
    "        dot = graphviz.Digraph()\n",
    "        dot.node(str(self.root.val))\n",
    "\n",
    "        def add_nodes_edges(node):\n",
    "            if node.left:\n",
    "                dot.node(str(node.left.val))\n",
    "                dot.edge(str(node.val), str(node.left.val))\n",
    "                add_nodes_edges(node.left)\n",
    "            if node.right:\n",
    "                dot.node(str(node.right.val))\n",
    "                dot.edge(str(node.val), str(node.right.val))\n",
    "                add_nodes_edges(node.right)\n",
    "        add_nodes_edges(self.root)\n",
    "        Source(dot.source).render('binary_tree',view= True, format= 'png')\n"
   ]
  },
  {
   "cell_type": "code",
   "execution_count": 10,
   "metadata": {},
   "outputs": [
    {
     "name": "stdout",
     "output_type": "stream",
     "text": [
      "<__main__.BinarySearchTree object at 0x7f6162623010>\n"
     ]
    }
   ],
   "source": [
    "root = Node(25)\n",
    "tree = BinarySearchTree(root)\n",
    "tree.insert(10)\n",
    "tree.insert(50)\n",
    "tree.insert(5)\n",
    "tree.insert(15)\n",
    "tree.insert(26)\n",
    "tree.insert(28)\n",
    "tree.insert(100)\n",
    "print(tree)\n",
    "tree.visualize_tree()"
   ]
  },
  {
   "cell_type": "code",
   "execution_count": 11,
   "metadata": {},
   "outputs": [
    {
     "data": {
      "text/plain": [
       "[25, 10, 50, 5, 15, 26, 100, 28]"
      ]
     },
     "execution_count": 11,
     "metadata": {},
     "output_type": "execute_result"
    }
   ],
   "source": [
    "tree.breadth_first_search()"
   ]
  },
  {
   "cell_type": "code",
   "execution_count": null,
   "metadata": {},
   "outputs": [],
   "source": []
  },
  {
   "cell_type": "code",
   "execution_count": 12,
   "metadata": {},
   "outputs": [
    {
     "data": {
      "text/plain": [
       "[25, 10, 5, 15, 50, 26, 28, 100]"
      ]
     },
     "execution_count": 12,
     "metadata": {},
     "output_type": "execute_result"
    }
   ],
   "source": [
    "tree.depth_first_search_preorder()"
   ]
  },
  {
   "cell_type": "code",
   "execution_count": 13,
   "metadata": {},
   "outputs": [
    {
     "data": {
      "text/plain": [
       "[5, 15, 10, 28, 26, 100, 50, 25]"
      ]
     },
     "execution_count": 13,
     "metadata": {},
     "output_type": "execute_result"
    }
   ],
   "source": [
    "tree.dps_postorder()"
   ]
  },
  {
   "cell_type": "code",
   "execution_count": 14,
   "metadata": {},
   "outputs": [
    {
     "data": {
      "text/plain": [
       "[5, 10, 15, 25, 26, 28, 50, 100]"
      ]
     },
     "execution_count": 14,
     "metadata": {},
     "output_type": "execute_result"
    }
   ],
   "source": [
    "tree.dps_inorder()"
   ]
  }
 ],
 "metadata": {
  "kernelspec": {
   "display_name": "Python 3",
   "language": "python",
   "name": "python3"
  },
  "language_info": {
   "codemirror_mode": {
    "name": "ipython",
    "version": 3
   },
   "file_extension": ".py",
   "mimetype": "text/x-python",
   "name": "python",
   "nbconvert_exporter": "python",
   "pygments_lexer": "ipython3",
   "version": "3.10.6"
  },
  "orig_nbformat": 4
 },
 "nbformat": 4,
 "nbformat_minor": 2
}
