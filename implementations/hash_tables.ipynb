{
 "cells": [
  {
   "cell_type": "code",
   "execution_count": 61,
   "metadata": {},
   "outputs": [],
   "source": [
    "class HashTable():\n",
    "    def __init__(self,size = 59) -> None:\n",
    "        self.keymap = [None]*size\n",
    "    def __hash__(self, key) -> int:\n",
    "        total = 0; prime = 29\n",
    "        for i in range(min(len(key),50)):\n",
    "            char = key[i]\n",
    "            value = ord(char) - 96\n",
    "            total = (total*prime + value) % len(self.keymap)\n",
    "        return total\n",
    "    def set(self,key,value):\n",
    "        idx = self.__hash__(key)\n",
    "        if self.keymap[idx] is None:\n",
    "            self.keymap[idx] =[]\n",
    "        self.keymap[idx].append([key,value])\n",
    "        # return self.keymap\n",
    "    def get(self,key):\n",
    "        index = self.__hash__(key)\n",
    "        if self.keymap[index] is not None:\n",
    "            for i in range(len(self.keymap[index])):\n",
    "                if self.keymap[index][i][0] == key:\n",
    "                    return self.keymap[index][i][1]\n",
    "        return None\n",
    "    def keys(self):\n",
    "        list_keys = []\n",
    "        for i in range(len(self.keymap)):\n",
    "            if self.keymap[i] is not None:\n",
    "                for l in self.keymap[i]:\n",
    "                    if l[0] not in list_keys:\n",
    "                        list_keys.append(l[0])\n",
    "        return list_keys   \n",
    "    def values(self):\n",
    "        list_values = []\n",
    "        for i in range(len(self.keymap)):\n",
    "            if self.keymap[i] is not None:\n",
    "                for l in self.keymap[i]:\n",
    "                    if l[1] not in list_values:\n",
    "                        list_values.append(l[1])\n",
    "        return list_values \n"
   ]
  },
  {
   "cell_type": "code",
   "execution_count": 62,
   "metadata": {},
   "outputs": [],
   "source": [
    "ht = HashTable()\n",
    "ht.set(\"hello world\",'good')\n",
    "ht.set('bonjour','si')\n",
    "ht.set('Kushal','inevitable')\n",
    "ht.set('Kushal','Sexy')\n",
    "ht.set('Hailey Atwell', 'Sexy')\n"
   ]
  },
  {
   "cell_type": "code",
   "execution_count": 63,
   "metadata": {},
   "outputs": [
    {
     "data": {
      "text/plain": [
       "'inevitable'"
      ]
     },
     "execution_count": 63,
     "metadata": {},
     "output_type": "execute_result"
    }
   ],
   "source": [
    "ht.get('Kushal')"
   ]
  },
  {
   "cell_type": "code",
   "execution_count": 64,
   "metadata": {},
   "outputs": [
    {
     "name": "stdout",
     "output_type": "stream",
     "text": [
      "['Kushal', 'Hailey Atwell', 'hello world', 'bonjour'] \n",
      " ['inevitable', 'Sexy', 'good', 'si']\n"
     ]
    }
   ],
   "source": [
    "print(ht.keys(),'\\n',ht.values())"
   ]
  },
  {
   "cell_type": "code",
   "execution_count": null,
   "metadata": {},
   "outputs": [],
   "source": []
  }
 ],
 "metadata": {
  "kernelspec": {
   "display_name": "Python 3",
   "language": "python",
   "name": "python3"
  },
  "language_info": {
   "codemirror_mode": {
    "name": "ipython",
    "version": 3
   },
   "file_extension": ".py",
   "mimetype": "text/x-python",
   "name": "python",
   "nbconvert_exporter": "python",
   "pygments_lexer": "ipython3",
   "version": "3.10.6"
  },
  "orig_nbformat": 4
 },
 "nbformat": 4,
 "nbformat_minor": 2
}
