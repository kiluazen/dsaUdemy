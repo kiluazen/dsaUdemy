{
 "cells": [
  {
   "cell_type": "code",
   "execution_count": 37,
   "metadata": {},
   "outputs": [],
   "source": [
    "#Max Binary Heap\n",
    "class MaxBinaryHeap():\n",
    "    def __init__(self) -> None:\n",
    "        self.values=[]\n",
    "    def bubbleup(self):\n",
    "        idx = len(self.values) -1\n",
    "        while True:\n",
    "            parent_idx = (idx-1)//2\n",
    "            if parent_idx < 0:\n",
    "                break\n",
    "            # print(parent_idx)\n",
    "            element = self.values[idx]\n",
    "            parent = self.values[parent_idx]\n",
    "            if element <= parent:\n",
    "                break\n",
    "            elif element > parent:\n",
    "                self.values[parent_idx] = element\n",
    "                self.values[idx] = parent\n",
    "                idx = parent_idx\n",
    "    def insert(self, element):\n",
    "        self.values.append(element)\n",
    "        self.bubbleup()\n",
    "    def sinkdown(self):\n",
    "        idx = 0\n",
    "        length = len(self.values)\n",
    "        while True:\n",
    "            element = self.values[idx]\n",
    "            left_idx =  2*idx + 1\n",
    "            right_idx = 2*idx + 2\n",
    "            swap = None\n",
    "            if left_idx <length:\n",
    "                left = self.values[left_idx]\n",
    "                if left > element:\n",
    "                    swap = left_idx\n",
    "            if right_idx<length :\n",
    "                right = self.values[right_idx]\n",
    "                if (swap is None and right > element) or (swap is not None and right>self.values[swap]):\n",
    "                    swap = right_idx\n",
    "            if swap is None:\n",
    "                break\n",
    "            else:\n",
    "                self.values[idx] = self.values[swap]\n",
    "                self.values[swap] = element\n",
    "                idx = swap  \n",
    "    def ExtractMax(self):\n",
    "        max = self.values[0]\n",
    "        end = self.values.pop()\n",
    "        self.values[0]= end\n",
    "        self.sinkdown()\n",
    "        return max\n",
    "    \n",
    "    "
   ]
  },
  {
   "cell_type": "code",
   "execution_count": 38,
   "metadata": {},
   "outputs": [
    {
     "name": "stdout",
     "output_type": "stream",
     "text": [
      "[45, 30, 40]\n",
      "[50, 45, 40, 30]\n",
      "[65, 50, 40, 30, 45]\n",
      "[65, 50, 40, 33, 45, 22, 15, 30]\n"
     ]
    }
   ],
   "source": [
    "heap = MaxBinaryHeap()\n",
    "heap.insert(45)\n",
    "heap.insert(30)\n",
    "heap.insert(40)\n",
    "print(heap.values)\n",
    "heap.insert(50)\n",
    "print(heap.values)\n",
    "heap.insert(65)\n",
    "print(heap.values)\n",
    "heap.insert(22)\n",
    "heap.insert(15)\n",
    "heap.insert(33)\n",
    "print(heap.values)"
   ]
  },
  {
   "cell_type": "code",
   "execution_count": 39,
   "metadata": {},
   "outputs": [
    {
     "name": "stdout",
     "output_type": "stream",
     "text": [
      "[50, 45, 40, 33, 30, 22, 15]\n"
     ]
    }
   ],
   "source": [
    "heap.ExtractMax()\n",
    "print(heap.values)"
   ]
  },
  {
   "cell_type": "code",
   "execution_count": 26,
   "metadata": {},
   "outputs": [],
   "source": [
    "class Node():\n",
    "    def __init__(self, val, priority) -> None:\n",
    "        self.val = val\n",
    "        self.priority = priority\n",
    "    def __str__(self) -> str:\n",
    "        return f'{self.val}, {self.priority}'\n",
    "class PriorityQueue(Node):\n",
    "    def __init__(self) -> None:\n",
    "        super.__init__\n",
    "        self.values = []\n",
    "    def bubbleup(self):\n",
    "        idx = len(self.values) -1\n",
    "        while idx > 0:\n",
    "            parent_idx = (idx-1)//2\n",
    "            if parent_idx < 0:\n",
    "                break\n",
    "            # print(parent_idx)\n",
    "            element = self.values[idx]\n",
    "            parent = self.values[parent_idx]\n",
    "            if element.priority <= parent.priority:\n",
    "                break\n",
    "            elif element.priority > parent.priority:\n",
    "                self.values[parent_idx] = element\n",
    "                self.values[idx] = parent\n",
    "                idx = parent_idx\n",
    "    def insert(self, ele, pr):\n",
    "        element = Node(ele, pr)\n",
    "        self.values.append(element)\n",
    "        self.bubbleup()\n",
    "    def sinkdown(self):\n",
    "        idx = 0\n",
    "        length = len(self.values)\n",
    "        while True:\n",
    "            element = self.values[idx]\n",
    "            left_idx =  2*idx + 1\n",
    "            right_idx = 2*idx + 2\n",
    "            swap = None\n",
    "            if left_idx <length:\n",
    "                left = self.values[left_idx]\n",
    "                if left.priority > element.priority:\n",
    "                    swap = left_idx\n",
    "            if right_idx<length :\n",
    "                right = self.values[right_idx]\n",
    "                if (swap is None and right.priority > element.priority) or (swap is not None and right.priority>self.values[swap].priority):\n",
    "                    swap = right_idx\n",
    "            if swap is None:\n",
    "                break\n",
    "            else:\n",
    "                self.values[idx] = self.values[swap]\n",
    "                self.values[swap] = element\n",
    "                idx = swap  \n",
    "    def ExtractMax(self):\n",
    "        max = self.values[0]\n",
    "        end = self.values.pop()\n",
    "        self.values[0]= end\n",
    "        self.sinkdown()\n",
    "        return max\n",
    "    "
   ]
  },
  {
   "cell_type": "code",
   "execution_count": 27,
   "metadata": {},
   "outputs": [],
   "source": [
    "er = PriorityQueue()\n",
    "er.insert('rdj',15)\n",
    "er.insert('christian bale',4)\n",
    "er.insert('Cillian', 6)\n",
    "er.insert('Robin',5)\n",
    "er.insert('ryan',2)\n",
    "er.insert('rooney',1)\n",
    "er.insert('emma',22)\n"
   ]
  },
  {
   "cell_type": "code",
   "execution_count": 28,
   "metadata": {},
   "outputs": [
    {
     "name": "stdout",
     "output_type": "stream",
     "text": [
      "emma, 22\n",
      "Robin, 5\n",
      "rdj, 15\n",
      "christian bale, 4\n",
      "ryan, 2\n",
      "rooney, 1\n",
      "Cillian, 6\n"
     ]
    }
   ],
   "source": [
    "for i in er.values:\n",
    "    print(i)"
   ]
  },
  {
   "cell_type": "code",
   "execution_count": null,
   "metadata": {},
   "outputs": [],
   "source": []
  }
 ],
 "metadata": {
  "kernelspec": {
   "display_name": "Python 3",
   "language": "python",
   "name": "python3"
  },
  "language_info": {
   "codemirror_mode": {
    "name": "ipython",
    "version": 3
   },
   "file_extension": ".py",
   "mimetype": "text/x-python",
   "name": "python",
   "nbconvert_exporter": "python",
   "pygments_lexer": "ipython3",
   "version": "3.10.6"
  },
  "orig_nbformat": 4
 },
 "nbformat": 4,
 "nbformat_minor": 2
}
