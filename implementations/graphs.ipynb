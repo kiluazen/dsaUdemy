{
 "cells": [
  {
   "cell_type": "code",
   "execution_count": 22,
   "metadata": {},
   "outputs": [],
   "source": [
    "class Graph :\n",
    "    def __init__(self) -> None:\n",
    "        self.adjacencyList = {}\n",
    "    def addVertex(self, vertex):\n",
    "        if vertex not in self.adjacencyList:\n",
    "            self.adjacencyList[vertex] = []\n",
    "    def addEdge(self, v1,v2):\n",
    "        self.adjacencyList[v1].append(v2)\n",
    "        self.adjacencyList[v2].append(v1)\n",
    "    def removeEdge(self, v1,v2):\n",
    "        self.adjacencyList[v1].remove(v2)\n",
    "        self.adjacencyList[v2].remove(v1)\n",
    "    def removeVertex(self, vertex):\n",
    "        for value in self.adjacencyList[vertex]:\n",
    "            self.adjacencyList[value].remove(vertex)\n",
    "        self.adjacencyList.pop(vertex)\n",
    "    def DF_recursive(self,start, visited = None):\n",
    "        if visited is None:\n",
    "            visited = []\n",
    "        visited.append(start)\n",
    "        print(start)\n",
    "        for next in self.adjacencyList[start]:\n",
    "            if next not in visited:\n",
    "                self.DF_recursive(next, visited)\n",
    "        return visited\n",
    "    def DF_iterative(self, start):\n",
    "        stack = [start] ; result = []; visited={start:True}\n",
    "        while len(stack):\n",
    "            print(stack)\n",
    "            currentVertex = stack.pop()\n",
    "            result.append(currentVertex)\n",
    "            for neighbor in self.adjacencyList[currentVertex]:\n",
    "                if neighbor not in visited:\n",
    "                    visited[neighbor] = True\n",
    "                    stack.append(neighbor)\n",
    "        return result\n",
    "    def BFS(self, start):\n",
    "        queue = [start]; result=[]; visited = {start: True}\n",
    "        while len(queue):\n",
    "            print(queue)\n",
    "            current_vertex = queue[0]\n",
    "            queue = queue[1:]\n",
    "            result.append(current_vertex)\n",
    "            for neighbor in self.adjacencyList[current_vertex]:\n",
    "                if neighbor not in visited:\n",
    "                    visited[neighbor] = True\n",
    "                    queue.append(neighbor)\n",
    "        return result"
   ]
  },
  {
   "cell_type": "code",
   "execution_count": 25,
   "metadata": {},
   "outputs": [],
   "source": [
    "g = Graph()\n",
    "g.addVertex('Mumbai')\n",
    "g.addVertex('Birur')\n",
    "g.addVertex('Banglore')\n",
    "g.addVertex('Toronto')\n",
    "g.addVertex('Kyoto')\n",
    "g.addVertex('California')\n",
    "g.addVertex('New York')\n",
    "g.addVertex('London')\n",
    "g.addVertex('Dubai')"
   ]
  },
  {
   "cell_type": "code",
   "execution_count": 26,
   "metadata": {},
   "outputs": [],
   "source": [
    "g.addEdge('Mumbai','Birur')\n",
    "g.addEdge('Mumbai', 'Kyoto')\n",
    "g.addEdge('Banglore', 'California')\n",
    "g.addEdge('Toronto','Kyoto')\n",
    "g.addEdge('Mumbai','Toronto')\n",
    "g.addEdge('Banglore','Birur')\n",
    "g.addEdge('Banglore', 'Kyoto')\n",
    "g.addEdge('California','New York')\n",
    "g.addEdge('New York','London')\n",
    "g.addEdge('London','Dubai')\n",
    "g.addEdge('Dubai','Mumbai')"
   ]
  },
  {
   "cell_type": "code",
   "execution_count": 62,
   "metadata": {},
   "outputs": [],
   "source": [
    "class Heap():\n",
    "    def __init__(self) -> None:\n",
    "        self.values = []\n",
    "    def parent(self, i):\n",
    "        return (i-1)//2\n",
    "    def insert(self, vertex, dist):\n",
    "        self.values.append((vertex,dist))\n",
    "        # the index of the newly added tuple is\n",
    "        i = len(self.values) - 1\n",
    "        if i!=0 and self.values[self.parent(i)][1] > self.values[i][1]:\n",
    "            self.values[self.parent(i)], self.values[i] = self.values[i], self.values[self.parent(i)]\n",
    "            i = self.parent(i)\n",
    "    def min_vertex(self):\n",
    "        root = self.values[0]\n",
    "        last = self.values.pop()\n",
    "        if self.values:\n",
    "            self.values[0] = last\n",
    "            self.heapify(0)\n",
    "        return root\n",
    "    def heapify(self, i):\n",
    "        current = i\n",
    "        left_child = 2*i +1\n",
    "        right_child = 2*i +2\n",
    "        if left_child < len(self.values) and self.values[left_child][1] < self.values[current][1]:\n",
    "            current = left_child\n",
    "        if right_child < len(self.values) and self.values[right_child][1] < self.values[current][1]:\n",
    "            current = right_child\n",
    "        \n",
    "        if current != i:\n",
    "            self.values[current] , self.values[i] = self.values[i] , self.values[current]\n",
    "            self.heapify(current)\n",
    "    def update(self, key, value):\n",
    "        i =0\n",
    "        for i in range(len(self.values)):\n",
    "            if self.values[i][0] == key:\n",
    "                break\n",
    "        self.values[i] = (key, value)\n",
    "        \n",
    "        while i!=0 and self.values[self.parent(i)][1] >self.values[i][1]:\n",
    "            self.values[i], self.values[self.parent(i)] = self.values[self.parent(i)],self.values[i]\n",
    "            i = self.parent(i)\n",
    "            \n"
   ]
  },
  {
   "cell_type": "code",
   "execution_count": 63,
   "metadata": {},
   "outputs": [],
   "source": [
    "class Weighted_Graph():\n",
    "    def __init__(self) -> None:\n",
    "        self.adjacencyList = {}\n",
    "    def addVertex(self, vertex):\n",
    "        if vertex not in self.adjacencyList:\n",
    "            self.adjacencyList[vertex] = []\n",
    "    def addEdge(self, v1, v2, distance):\n",
    "        if v1 not in self.adjacencyList:\n",
    "            self.addVertex(v1)\n",
    "        if v2 not in self.adjacencyList:\n",
    "            self.addVertex(v2)\n",
    "        self.adjacencyList[v1].append((v2,distance))\n",
    "        self.adjacencyList[v2].append((v1,distance))"
   ]
  },
  {
   "cell_type": "code",
   "execution_count": 64,
   "metadata": {},
   "outputs": [],
   "source": [
    "def Dijkstra(graph, start):\n",
    "    distances = {vertex: float('inf') for vertex in graph.adjacencyList}\n",
    "    distances[start]= 0\n",
    "\n",
    "    heap = Heap()\n",
    "    for vertex, dist in distances.items():\n",
    "        heap.insert(vertex,dist)\n",
    "    while heap.values:\n",
    "        current_vertex, current_dist = heap.min_vertex()\n",
    "        if current_dist == float('inf'):\n",
    "            break\n",
    "        for neigbhor, value  in graph.adjacencyList[current_vertex]:\n",
    "            distance = current_dist + value\n",
    "            if distance < distances[neigbhor]:\n",
    "                distances[neigbhor] = distance\n",
    "                heap.update(neigbhor, distance)\n",
    "    return distances"
   ]
  },
  {
   "cell_type": "code",
   "execution_count": 65,
   "metadata": {},
   "outputs": [
    {
     "data": {
      "text/plain": [
       "dict_items([('A', 4), ('B', 5)])"
      ]
     },
     "execution_count": 65,
     "metadata": {},
     "output_type": "execute_result"
    }
   ],
   "source": [
    "dict ={'A':4, 'B': 5}\n",
    "dict.items()"
   ]
  },
  {
   "cell_type": "code",
   "execution_count": 66,
   "metadata": {},
   "outputs": [],
   "source": [
    "graph = Weighted_Graph()\n",
    "graph.addVertex('A')\n",
    "graph.addVertex('B')\n",
    "graph.addVertex('C')\n",
    "graph.addVertex('D')\n",
    "graph.addVertex('E')\n",
    "graph.addVertex('F')\n",
    "\n",
    "graph.addEdge('A','B',4)\n",
    "graph.addEdge('A','C',2)\n",
    "graph.addEdge('C','D',2)\n",
    "graph.addEdge('C','F',4)\n",
    "graph.addEdge('B','E',3)\n",
    "graph.addEdge('E','F',1)\n",
    "graph.addEdge('E','D',3)\n",
    "graph.addEdge('D','F',1)"
   ]
  },
  {
   "cell_type": "code",
   "execution_count": 67,
   "metadata": {},
   "outputs": [
    {
     "data": {
      "text/plain": [
       "{'A': 0, 'B': 4, 'C': 2, 'D': 4, 'E': 6, 'F': 5}"
      ]
     },
     "execution_count": 67,
     "metadata": {},
     "output_type": "execute_result"
    }
   ],
   "source": [
    "Dijkstra(graph,'A')"
   ]
  },
  {
   "cell_type": "code",
   "execution_count": null,
   "metadata": {},
   "outputs": [],
   "source": []
  }
 ],
 "metadata": {
  "kernelspec": {
   "display_name": "Python 3",
   "language": "python",
   "name": "python3"
  },
  "language_info": {
   "codemirror_mode": {
    "name": "ipython",
    "version": 3
   },
   "file_extension": ".py",
   "mimetype": "text/x-python",
   "name": "python",
   "nbconvert_exporter": "python",
   "pygments_lexer": "ipython3",
   "version": "3.10.6"
  },
  "orig_nbformat": 4
 },
 "nbformat": 4,
 "nbformat_minor": 2
}
